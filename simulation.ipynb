{
 "cells": [
  {
   "cell_type": "code",
   "execution_count": 117,
   "metadata": {},
   "outputs": [],
   "source": [
    "import numpy as np\n",
    "import matplotlib.pyplot as plt\n",
    "from qutip import *\n",
    "\n",
    "# Constants\n",
    "omega_0 = 10  # Natural frequency of the qubit\n",
    "Omega = np.pi*2    # Rabi frequency\n",
    "omega = 10    # Frequency of the external driving field (close to omega_0 for RWA)\n",
    "gamma = 0.2   # Dephasing rate\n",
    "\n",
    "# Calculate the detuning\n",
    "Delta = 0.5 * (omega_0 - omega)\n",
    "\n",
    "# Time steps\n",
    "t_list = np.linspace(0, 1, 100)\n",
    "\n",
    "# Define Pauli matrices\n",
    "sigma_z = sigmaz()\n",
    "sigma_x = sigmax()\n",
    "sigma_y = sigmay()\n",
    "# Hamiltonian in the rotating frame\n",
    "H_rf = Delta * sigma_z + 0.5 * Omega * sigma_x\n",
    "\n",
    "# Initial state |0>\n",
    "psi0 = (basis(2, 0)+basis(2, 1)).unit()\n",
    "psi0 = basis(2,0)\n",
    "\n",
    "# Solving the time-dependent Schrödinger equation in the rotating frame\n",
    "result = mesolve(H_rf, psi0, t_list, [], [sigma_x, sigma_y, sigma_z])\n",
    "\n",
    "# Create a Bloch sphere instance\n",
    "b = Bloch()\n",
    "\n",
    "# Collect states for Bloch sphere visualization\n",
    "states = result.states"
   ]
  },
  {
   "cell_type": "code",
   "execution_count": 118,
   "metadata": {},
   "outputs": [],
   "source": [
    "sx, sy, sz = result.expect[0], result.expect[1], result.expect[2]"
   ]
  },
  {
   "cell_type": "code",
   "execution_count": 119,
   "metadata": {},
   "outputs": [],
   "source": [
    "b = Bloch()\n",
    "b.vector_color = ['r']\n",
    "b.view = [-40,30]\n",
    "for i in range(len(sx)):\n",
    "    b.clear()\n",
    "    b.add_points([sx[:i+1],sy[:i+1],sz[:i+1]])\n",
    "    b.save(dirc='temp') #saving images to temp directory in current working directory"
   ]
  },
  {
   "cell_type": "code",
   "execution_count": 120,
   "metadata": {},
   "outputs": [
    {
     "name": "stdout",
     "output_type": "stream",
     "text": [
      "Generating color palette...\n",
      "ffmpeg version 4.4.2-0ubuntu0.22.04.1 Copyright (c) 2000-2021 the FFmpeg developers\n",
      "  built with gcc 11 (Ubuntu 11.2.0-19ubuntu1)\n",
      "  configuration: --prefix=/usr --extra-version=0ubuntu0.22.04.1 --toolchain=hardened --libdir=/usr/lib/x86_64-linux-gnu --incdir=/usr/include/x86_64-linux-gnu --arch=amd64 --enable-gpl --disable-stripping --enable-gnutls --enable-ladspa --enable-libaom --enable-libass --enable-libbluray --enable-libbs2b --enable-libcaca --enable-libcdio --enable-libcodec2 --enable-libdav1d --enable-libflite --enable-libfontconfig --enable-libfreetype --enable-libfribidi --enable-libgme --enable-libgsm --enable-libjack --enable-libmp3lame --enable-libmysofa --enable-libopenjpeg --enable-libopenmpt --enable-libopus --enable-libpulse --enable-librabbitmq --enable-librubberband --enable-libshine --enable-libsnappy --enable-libsoxr --enable-libspeex --enable-libsrt --enable-libssh --enable-libtheora --enable-libtwolame --enable-libvidstab --enable-libvorbis --enable-libvpx --enable-libwebp --enable-libx265 --enable-libxml2 --enable-libxvid --enable-libzimg --enable-libzmq --enable-libzvbi --enable-lv2 --enable-omx --enable-openal --enable-opencl --enable-opengl --enable-sdl2 --enable-pocketsphinx --enable-librsvg --enable-libmfx --enable-libdc1394 --enable-libdrm --enable-libiec61883 --enable-chromaprint --enable-frei0r --enable-libx264 --enable-shared\n",
      "  libavutil      56. 70.100 / 56. 70.100\n",
      "  libavcodec     58.134.100 / 58.134.100\n",
      "  libavformat    58. 76.100 / 58. 76.100\n",
      "  libavdevice    58. 13.100 / 58. 13.100\n",
      "  libavfilter     7.110.100 /  7.110.100\n",
      "  libswscale      5.  9.100 /  5.  9.100\n",
      "  libswresample   3.  9.100 /  3.  9.100\n",
      "  libpostproc    55.  9.100 / 55.  9.100\n",
      "Input #0, image2, from 'temp/bloch_*.png':\n",
      "  Duration: 00:00:10.00, start: 0.000000, bitrate: N/A\n",
      "  Stream #0:0: Video: png, rgba(pc), 500x500 [SAR 3937:3937 DAR 1:1], 10 fps, 10 tbr, 10 tbn, 10 tbc\n",
      "Stream mapping:\n",
      "  Stream #0:0 -> #0:0 (png (native) -> png (native))\n",
      "Press [q] to stop, [?] for help\n",
      "\u001b[1;32m[Parsed_palettegen_1 @ 0x55e9d7682dc0] \u001b[0m255(+1) colors generated out of 6928 colors; ratio=0.036807\n",
      "\u001b[1;32m[Parsed_palettegen_1 @ 0x55e9d7682dc0] \u001b[0m\u001b[0;33mDupped color: FFCEC8C8\n",
      "\u001b[0m\u001b[1;32m[Parsed_palettegen_1 @ 0x55e9d7682dc0] \u001b[0m\u001b[0;33mDupped color: FFD3CDCD\n",
      "\u001b[0m\u001b[1;32m[Parsed_palettegen_1 @ 0x55e9d7682dc0] \u001b[0m\u001b[0;33mDupped color: FFD8D2D2\n",
      "\u001b[0m\u001b[1;32m[Parsed_palettegen_1 @ 0x55e9d7682dc0] \u001b[0m\u001b[0;33mDupped color: FFDDD5D5\n",
      "\u001b[0m\u001b[1;32m[Parsed_palettegen_1 @ 0x55e9d7682dc0] \u001b[0m\u001b[0;33mDupped color: FFE0D8D8\n",
      "\u001b[0mOutput #0, image2, to 'palette.png':\n",
      "  Metadata:\n",
      "    encoder         : Lavf58.76.100\n",
      "  Stream #0:0: Video: png, rgba(pc, gbr/unknown/unknown, progressive), 16x16 [SAR 1:1 DAR 1:1], q=2-31, 200 kb/s, 10 fps, 10 tbn\n",
      "    Metadata:\n",
      "      encoder         : Lavc58.134.100 png\n",
      "frame=    1 fps=0.0 q=-0.0 Lsize=N/A time=00:00:00.10 bitrate=N/A speed=0.398x    \n",
      "video:1kB audio:0kB subtitle:0kB other streams:0kB global headers:0kB muxing overhead: unknown\n",
      "Creating GIF...\n",
      "ffmpeg version 4.4.2-0ubuntu0.22.04.1 Copyright (c) 2000-2021 the FFmpeg developers\n",
      "  built with gcc 11 (Ubuntu 11.2.0-19ubuntu1)\n",
      "  configuration: --prefix=/usr --extra-version=0ubuntu0.22.04.1 --toolchain=hardened --libdir=/usr/lib/x86_64-linux-gnu --incdir=/usr/include/x86_64-linux-gnu --arch=amd64 --enable-gpl --disable-stripping --enable-gnutls --enable-ladspa --enable-libaom --enable-libass --enable-libbluray --enable-libbs2b --enable-libcaca --enable-libcdio --enable-libcodec2 --enable-libdav1d --enable-libflite --enable-libfontconfig --enable-libfreetype --enable-libfribidi --enable-libgme --enable-libgsm --enable-libjack --enable-libmp3lame --enable-libmysofa --enable-libopenjpeg --enable-libopenmpt --enable-libopus --enable-libpulse --enable-librabbitmq --enable-librubberband --enable-libshine --enable-libsnappy --enable-libsoxr --enable-libspeex --enable-libsrt --enable-libssh --enable-libtheora --enable-libtwolame --enable-libvidstab --enable-libvorbis --enable-libvpx --enable-libwebp --enable-libx265 --enable-libxml2 --enable-libxvid --enable-libzimg --enable-libzmq --enable-libzvbi --enable-lv2 --enable-omx --enable-openal --enable-opencl --enable-opengl --enable-sdl2 --enable-pocketsphinx --enable-librsvg --enable-libmfx --enable-libdc1394 --enable-libdrm --enable-libiec61883 --enable-chromaprint --enable-frei0r --enable-libx264 --enable-shared\n",
      "  libavutil      56. 70.100 / 56. 70.100\n",
      "  libavcodec     58.134.100 / 58.134.100\n",
      "  libavformat    58. 76.100 / 58. 76.100\n",
      "  libavdevice    58. 13.100 / 58. 13.100\n",
      "  libavfilter     7.110.100 /  7.110.100\n",
      "  libswscale      5.  9.100 /  5.  9.100\n",
      "  libswresample   3.  9.100 /  3.  9.100\n",
      "  libpostproc    55.  9.100 / 55.  9.100\n",
      "Input #0, image2, from 'temp/bloch_*.png':\n",
      "  Duration: 00:00:10.00, start: 0.000000, bitrate: N/A\n",
      "  Stream #0:0: Video: png, rgba(pc), 500x500 [SAR 3937:3937 DAR 1:1], 10 fps, 10 tbr, 10 tbn, 10 tbc\n",
      "Input #1, png_pipe, from 'palette.png':\n",
      "  Duration: N/A, bitrate: N/A\n",
      "  Stream #1:0: Video: png, rgba(pc), 16x16 [SAR 1:1 DAR 1:1], 25 fps, 25 tbr, 25 tbn, 25 tbc\n",
      "Stream mapping:\n",
      "  Stream #0:0 (png) -> scale\n",
      "  Stream #1:0 (png) -> paletteuse:palette\n",
      "  paletteuse -> Stream #0:0 (gif)\n",
      "Press [q] to stop, [?] for help\n",
      "\u001b[0;35m[image2 @ 0x55a72230b580] \u001b[0m\u001b[0;33mThread message queue blocking; consider raising the thread_queue_size option (current value: 8)\n",
      "\u001b[0mOutput #0, gif, to 'output.gif':\n",
      "  Metadata:\n",
      "    encoder         : Lavf58.76.100\n",
      "  Stream #0:0: Video: gif, pal8(pc, gbr/unknown/unknown, progressive), 320x320 [SAR 1:1 DAR 1:1], q=2-31, 200 kb/s, 10 fps, 100 tbn (default)\n",
      "    Metadata:\n",
      "      encoder         : Lavc58.134.100 gif\n",
      "frame=  100 fps=0.0 q=-0.0 Lsize=      99kB time=00:00:09.91 bitrate=  81.5kbits/s speed=26.4x    \n",
      "video:99kB audio:0kB subtitle:0kB other streams:0kB global headers:0kB muxing overhead: 0.019810%\n",
      "GIF created successfully: output.gif\n",
      "Cleaning up...\n"
     ]
    }
   ],
   "source": [
    "!bash gif.sh"
   ]
  },
  {
   "cell_type": "code",
   "execution_count": null,
   "metadata": {},
   "outputs": [],
   "source": []
  }
 ],
 "metadata": {
  "kernelspec": {
   "display_name": "laboneq",
   "language": "python",
   "name": "python3"
  },
  "language_info": {
   "codemirror_mode": {
    "name": "ipython",
    "version": 3
   },
   "file_extension": ".py",
   "mimetype": "text/x-python",
   "name": "python",
   "nbconvert_exporter": "python",
   "pygments_lexer": "ipython3",
   "version": "3.12.2"
  }
 },
 "nbformat": 4,
 "nbformat_minor": 2
}
